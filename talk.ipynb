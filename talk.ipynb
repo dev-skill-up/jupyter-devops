{
 "cells": [
  {
   "cell_type": "markdown",
   "metadata": {},
   "source": [
    "```{=latex}\n",
    "\\usepackage{hyperref}\n",
    "\\usepackage{graphicx}\n",
    "\\usepackage{listings}\n",
    "\\usepackage{textcomp}\n",
    "\\usepackage{fancyvrb}\n",
    "\n",
    "\\newcommand{\\passthrough}[1]{\\lstset{mathescape=false}#1\\lstset{mathescape=true}}\n",
    "\\newcommand{\\tightlist}{}\n",
    "```"
   ]
  },
  {
   "cell_type": "markdown",
   "metadata": {},
   "source": [
    "```{=latex}\n",
    "\\title{Jupyter for DevOps}\n",
    "\\author{Moshe Zadka -- https://cobordism.com}\n",
    "\\date{}\n",
    "\n",
    "\\begin{document}\n",
    "\\begin{titlepage}\n",
    "\\maketitle\n",
    "\\end{titlepage}\n",
    "\n",
    "\\frame{\\titlepage}\n",
    "```"
   ]
  },
  {
   "cell_type": "markdown",
   "metadata": {
    "tags": []
   },
   "source": [
    "```{=latex}\n",
    "\\begin{frame}\n",
    "\\frametitle{Acknowledgement of Country}\n",
    "\n",
    "Belmont (in San Francisco Bay Area Peninsula)\n",
    "\n",
    "Ancestral homeland of the Ramaytush Ohlone people\n",
    "\n",
    "\\end{frame}\n",
    "```\n",
    "\n",
    "I live in Belmont,\n",
    "in the San Francisco Bay Area Peninsula.\n",
    "I wish to acknowledge it as the\n",
    "ancestral homeland\n",
    "of the\n",
    "Ramaytush Ohlone people."
   ]
  },
  {
   "cell_type": "markdown",
   "metadata": {
    "tags": []
   },
   "source": [
    "```{=latex}\n",
    "\\begin{frame}\n",
    "\\frametitle{Jupyter for DevOps??}\n",
    "\n",
    "Yes! \\pause\n",
    "\n",
    "Data scientists: \\pause\n",
    "\n",
    "Explore...\\pause Automate...\\pause Share!\n",
    "\n",
    "DevOps engineers: \\pause\n",
    "\n",
    "Explore...\\pause Automate...\\pause Share!\n",
    "\n",
    "\n",
    "\\end{frame}\n",
    "```\n",
    "\n",
    "Jupyter for DevOps? Isn't Jupyter something for data scientists?\n",
    "\n",
    "It is!\n",
    "Data scientists need to explore the data.\n",
    "Once they have a sense of the data,\n",
    "they need to automate the data processing.\n",
    "Finally,\n",
    "they need to share their work with their colleagues.\n",
    "\n",
    "In contrast,\n",
    "DevOps engineers need to explore the system.\n",
    "Once they have a sense of the system,\n",
    "they need to automate their interactions.\n",
    "Finally,\n",
    "they need to share their work with their colleagues.\n",
    "\n",
    "Similar problems,\n",
    "similar tools.\n",
    "Jupyter has had a long time to mature as a\n",
    "development console,\n",
    "and is well-funded and developed.\n",
    "There is no need for\n",
    "\"something like Jupyter, but for DevOps\".\n",
    "Jupyter is already that.\n",
    "\n",
    "So why not jump in and show some examples?"
   ]
  },
  {
   "cell_type": "markdown",
   "metadata": {
    "tags": []
   },
   "source": [
    "## SSH"
   ]
  },
  {
   "cell_type": "markdown",
   "metadata": {
    "tags": []
   },
   "source": [
    "```{=latex}\n",
    "\\begin{frame}\n",
    "\\frametitle{SSH}\n",
    "\n",
    "The cause of,\\pause\n",
    "and the solution to,\\pause\n",
    "all DevOps problems.\n",
    "\\end{frame}\n",
    "```\n",
    "\n",
    "SSH is still the way many of us do ad-hoc management of systems.\n",
    "It is a solid server-side general agent platform,\n",
    "and even many\n",
    "\"replacements\"\n",
    "are built on top of it.\n",
    "\n",
    "SSHing directly from the command-line is fine.\n",
    "But in modern environments,\n",
    "we can have several,\n",
    "sometimes tens of systems,\n",
    "that we need to manage.\n",
    "Exploring using Jupyter is like\n",
    "SSH\n",
    "if\n",
    "SSH\n",
    "had a full-fledged console."
   ]
  },
  {
   "cell_type": "markdown",
   "metadata": {
    "tags": []
   },
   "source": [
    "### SSH with Paramiko"
   ]
  },
  {
   "cell_type": "code",
   "execution_count": 56,
   "metadata": {
    "tags": [
     "no_markdown"
    ]
   },
   "outputs": [],
   "source": [
    "import paramiko\n",
    "import pprint\n",
    "connect_params = dict(username=\"user\", port=5022, look_for_keys=False, key_filename=\"build/client_rsa_key\")"
   ]
  },
  {
   "cell_type": "markdown",
   "metadata": {
    "tags": []
   },
   "source": [
    "```{=latex}\n",
    "\\begin{frame}[fragile]\n",
    "\\frametitle{Connect with Paramiko}\n",
    "```"
   ]
  },
  {
   "cell_type": "code",
   "execution_count": 51,
   "metadata": {},
   "outputs": [],
   "source": [
    "client = paramiko.SSHClient()\n",
    "client.set_missing_host_key_policy(\n",
    "    paramiko.client.WarningPolicy)\n",
    "client.connect(\"localhost\", **connect_params)"
   ]
  },
  {
   "cell_type": "markdown",
   "metadata": {
    "tags": []
   },
   "source": [
    "```{=latex}\n",
    "\\end{frame}\n",
    "```\n",
    "\n",
    "You need to somehow collect the parameters:\n",
    "the host, and maybe some other connection details\n",
    "(keys, agent, etc.).\n",
    "Once you have those,\n",
    "connection is easy.\n",
    "You can also configure the host keys more carefully,\n",
    "if there is a reasonable way to collect or save them.\n"
   ]
  },
  {
   "cell_type": "markdown",
   "metadata": {},
   "source": [
    "### Run a command"
   ]
  },
  {
   "cell_type": "markdown",
   "metadata": {
    "tags": []
   },
   "source": [
    "```{=latex}\n",
    "\\begin{frame}[fragile]\n",
    "\\frametitle{Run Command with Paramiko}\n",
    "```"
   ]
  },
  {
   "cell_type": "code",
   "execution_count": 52,
   "metadata": {},
   "outputs": [
    {
     "data": {
      "text/plain": [
       "['some_file', 'another_file']"
      ]
     },
     "execution_count": 52,
     "metadata": {},
     "output_type": "execute_result"
    }
   ],
   "source": [
    "res = client.exec_command(\"ls\")\n",
    "files = res[1].read().decode(\"ascii\").splitlines()\n",
    "files"
   ]
  },
  {
   "cell_type": "markdown",
   "metadata": {
    "tags": []
   },
   "source": [
    "```{=latex}\n",
    "\\end{frame}\n",
    "```\n",
    "\n",
    "Running a command can be done with\n",
    "`exec_command`.\n",
    "You could print out\n",
    "`res[1]`\n",
    "directly.\n",
    "In this case, with two files, eyeballing them is enough.\n",
    "\n",
    "In general,\n",
    "it is nice to be able to run post-processing on the command output\n",
    "locally.\n",
    "No need for long pipelines with\n",
    "`ssh`\n",
    "or,\n",
    "worse,\n",
    "local remote pipelines!"
   ]
  },
  {
   "cell_type": "markdown",
   "metadata": {},
   "source": [
    "### Loop"
   ]
  },
  {
   "cell_type": "code",
   "execution_count": 53,
   "metadata": {
    "tags": [
     "no_markdown"
    ]
   },
   "outputs": [],
   "source": [
    "connect_params_list = [\n",
    "    dict(username=\"user\", port=5022, \n",
    "         look_for_keys=False, key_filename=\"build/client_rsa_key\"),\n",
    "    dict(username=\"user2\", port=5022, \n",
    "        look_for_keys=False, key_filename=\"build/client_rsa_key\")\n",
    "]"
   ]
  },
  {
   "cell_type": "markdown",
   "metadata": {
    "tags": []
   },
   "source": [
    "```{=latex}\n",
    "\\begin{frame}[fragile]\n",
    "\\frametitle{Automate with Paramiko}\n",
    "```"
   ]
  },
  {
   "cell_type": "code",
   "execution_count": 58,
   "metadata": {},
   "outputs": [
    {
     "name": "stdout",
     "output_type": "stream",
     "text": [
      "['another_file',\n",
      " 'even_more_files',\n",
      " 'more_file',\n",
      " 'some_file']\n"
     ]
    }
   ],
   "source": [
    "files = set()\n",
    "for connect_params in connect_params_list:\n",
    "    client.connect(\"localhost\", **connect_params)\n",
    "    res = client.exec_command(\"ls\")\n",
    "    files.update(\n",
    "        res[1].read().decode(\"ascii\").splitlines()\n",
    "    )\n",
    "pprint.pprint(sorted(files), width=40)"
   ]
  },
  {
   "cell_type": "markdown",
   "metadata": {
    "tags": []
   },
   "source": [
    "```{=latex}\n",
    "\\end{frame}\n",
    "```\n",
    "\n",
    "The real power shows up when you want to run the same command\n",
    "(or closely related commands)\n",
    "across a set of machines.\n",
    "For simplicity,\n",
    "here we consolidate all files into one list.\n",
    "This technique could be used to find which server has a\n",
    "`core`\n",
    "dump,\n",
    "for example,\n",
    "or restart a\n",
    "`systemd`\n",
    "service across several servers."
   ]
  },
  {
   "cell_type": "markdown",
   "metadata": {},
   "source": [
    "## Cloud"
   ]
  },
  {
   "cell_type": "markdown",
   "metadata": {},
   "source": [
    "```{=latex}\n",
    "\\begin{frame}\n",
    "\\frametitle{Cloud}\n",
    "\n",
    "Why not...\n",
    "\n",
    "Web UI? \\pause\n",
    "\n",
    "Command-line? \\pause\n",
    "\n",
    "Scripts? \\pause\n",
    "\n",
    "\\end{frame}\n",
    "```\n",
    "\n",
    "There are many ways to interact with the cloud.\n",
    "You can use the web UI.\n",
    "This is fine,\n",
    "but unpleasant to automate.\n",
    "\n",
    "You can use a custom command-line tool.\n",
    "There is nothing wrong with that either!\n",
    "\n",
    "Most clouds,\n",
    "thoguh,\n",
    "have a well-supported Python library to automate them.\n",
    "Many of them even support a completely compatible\n",
    "`AWS S3`\n",
    "interface,\n",
    "allowing you to manipulate remote static objects\n",
    "with the\n",
    "`boto3`\n",
    "library."
   ]
  },
  {
   "cell_type": "markdown",
   "metadata": {},
   "source": [
    "### Configuring `boto3`"
   ]
  },
  {
   "cell_type": "code",
   "execution_count": 11,
   "metadata": {
    "tags": [
     "no_markdown"
    ]
   },
   "outputs": [],
   "source": [
    "import boto3\n",
    "import io\n",
    "access_credentials = dict(\n",
    "    endpoint_url='http://localhost:3000',\n",
    "    aws_access_key_id=\"\",\n",
    "    aws_secret_access_key=\"\",\n",
    ")"
   ]
  },
  {
   "cell_type": "markdown",
   "metadata": {
    "tags": []
   },
   "source": [
    "```{=latex}\n",
    "\\begin{frame}[fragile]\n",
    "\\frametitle{Connect to S3}\n",
    "```"
   ]
  },
  {
   "cell_type": "code",
   "execution_count": 12,
   "metadata": {},
   "outputs": [],
   "source": [
    "s3 = boto3.client(\n",
    "    service_name='s3',\n",
    "    region_name='us-west-2',\n",
    "    # Credentials can be read from\n",
    "    # different sources.\n",
    "    **access_credentials,\n",
    ")"
   ]
  },
  {
   "cell_type": "markdown",
   "metadata": {
    "tags": []
   },
   "source": [
    "```{=latex}\n",
    "\\end{frame}\n",
    "```\n",
    "\n",
    "Configuring the client can be tricky,\n",
    "and depends on specific details.\n",
    "There might be a local abstraction to get\n",
    "medium-lived credentials.\n",
    "Alternatively,\n",
    "you can run Jupyter\n",
    "on a cloud machine which gets\n",
    "credentials using a cloud-specific mechanism.\n",
    "\n",
    "Since the notebooks are designed to be shared,\n",
    "include dynamic code that reads any secrets\n",
    "from local files,\n",
    "or accept them using a\n",
    "Jupyter\n",
    "`input`\n",
    "widget.\n",
    "Avoid putting tokens directly in the notebook."
   ]
  },
  {
   "cell_type": "code",
   "execution_count": 15,
   "metadata": {
    "tags": [
     "no_markdown"
    ]
   },
   "outputs": [
    {
     "data": {
      "text/plain": [
       "{'ResponseMetadata': {'RequestId': 'JCNH811JQGW21OYQVQLZF9JUF9COHPYB5JFB78CQS817OI8LMCXX',\n",
       "  'HTTPStatusCode': 200,\n",
       "  'HTTPHeaders': {'server': 'Werkzeug/2.1.2 Python/3.10.5',\n",
       "   'date': 'Wed, 22 Jun 2022 01:48:31 GMT',\n",
       "   'x-amzn-requestid': 'JCNH811JQGW21OYQVQLZF9JUF9COHPYB5JFB78CQS817OI8LMCXX',\n",
       "   'content-type': 'text/html; charset=utf-8',\n",
       "   'content-length': '176',\n",
       "   'access-control-allow-origin': '*',\n",
       "   'connection': 'close'},\n",
       "  'RetryAttempts': 0}}"
      ]
     },
     "execution_count": 15,
     "metadata": {},
     "output_type": "execute_result"
    }
   ],
   "source": [
    "s3.create_bucket(Bucket=\"special-bucket.123.431\")"
   ]
  },
  {
   "cell_type": "markdown",
   "metadata": {},
   "source": [
    "### Uploading an S3 file"
   ]
  },
  {
   "cell_type": "markdown",
   "metadata": {
    "tags": []
   },
   "source": [
    "```{=latex}\n",
    "\\begin{frame}[fragile]\n",
    "\\frametitle{Upload to S3}\n",
    "```"
   ]
  },
  {
   "cell_type": "code",
   "execution_count": 16,
   "metadata": {},
   "outputs": [],
   "source": [
    "some_contents = io.BytesIO(b\"some contents\")\n",
    "s3.upload_fileobj(\n",
    "    some_contents,\n",
    "    \"special-bucket.123.431\",\n",
    "    \"some-contents.txt\",\n",
    ")"
   ]
  },
  {
   "cell_type": "markdown",
   "metadata": {
    "tags": []
   },
   "source": [
    "```{=latex}\n",
    "\\end{frame}\n",
    "```\n",
    "\n",
    "One nice thing about using Jupyter here is that the\n",
    "*contents*\n",
    "of the files can be generated from code.\n",
    "In either case,\n",
    "having the logic for uploading the object to the store\n",
    "in a notebook means it can be repeated\n",
    "or tweaked."
   ]
  },
  {
   "cell_type": "markdown",
   "metadata": {},
   "source": [
    "### Looping"
   ]
  },
  {
   "cell_type": "markdown",
   "metadata": {
    "tags": []
   },
   "source": [
    "```{=latex}\n",
    "\\begin{frame}[fragile]\n",
    "\\frametitle{Automate Uploading to S3}\n",
    "```"
   ]
  },
  {
   "cell_type": "code",
   "execution_count": 17,
   "metadata": {},
   "outputs": [],
   "source": [
    "for i in range(10):\n",
    "    some_contents = io.BytesIO(\n",
    "        f\"some {i} contents\".encode(\"ascii\")\n",
    "    )\n",
    "    s3.upload_fileobj(\n",
    "        some_contents,\n",
    "        \"special-bucket.123.431\",\n",
    "        f\"some-contents-{i}.txt\",\n",
    "    )"
   ]
  },
  {
   "cell_type": "markdown",
   "metadata": {
    "tags": []
   },
   "source": [
    "```{=latex}\n",
    "\\end{frame}\n",
    "```\n",
    "\n",
    "Even nicer,\n",
    "you can\n",
    "*loop*.\n",
    "Upload multiple objects to the bucket,\n",
    "or upload the same object to multiple buckets.\n",
    "This is useful,\n",
    "for example,\n",
    "if you need to modify an\n",
    "object-store-backed website\n",
    "or several websites\n",
    "in some automated way.\n",
    "\n",
    "Beyond that,\n",
    "though other examples are less trivial to find on a slide,\n",
    "you can do other kinds of cloud-based automation\n",
    "using these ideas."
   ]
  },
  {
   "cell_type": "markdown",
   "metadata": {},
   "source": [
    "## Source collaboration platforms"
   ]
  },
  {
   "cell_type": "markdown",
   "metadata": {},
   "source": [
    "```{=latex}\n",
    "\\begin{frame}\n",
    "\\frametitle{Source collaboration platforms}\n",
    "\n",
    "Examples: GitHub, GitLab, BitBucket, ...\\pause\n",
    "\n",
    "GitLab: open core \\pause\n",
    "\n",
    "Why? \\pause Multi-repo management!\n",
    "\n",
    "\\end{frame}\n",
    "```\n",
    "\n",
    "It is the year\n",
    "2022 CE.\n",
    "Most of us use\n",
    "`git`-backed\n",
    "web-based\n",
    "source collaboration platforms.\n",
    "The most well-known is\n",
    "GitHub,\n",
    "but\n",
    "GitLab and BitBucket are famous examples.\n",
    "\n",
    "The following examples show-case\n",
    "GitLab.\n",
    "The basic ideas will be similar for all of them,\n",
    "but\n",
    "GitLab's\n",
    "open core model\n",
    "means you can test these out against a\n",
    "local installation fo GitLab using only the open source version."
   ]
  },
  {
   "cell_type": "code",
   "execution_count": 61,
   "metadata": {
    "tags": [
     "no_markdown"
    ]
   },
   "outputs": [],
   "source": [
    "import gitlab\n",
    "import pathlib\n",
    "import base64\n",
    "\n",
    "token = (pathlib.Path.home() / \".gitlab-token\").read_text().strip()\n",
    "project_name = \"moshez/project1\"\n",
    "projects = [project_name, \"moshez/2019\"]"
   ]
  },
  {
   "cell_type": "markdown",
   "metadata": {},
   "source": [
    "### Configuring the client"
   ]
  },
  {
   "cell_type": "markdown",
   "metadata": {
    "tags": []
   },
   "source": [
    "```{=latex}\n",
    "\\begin{frame}[fragile]\n",
    "\\frametitle{Configuring Gitlab}\n",
    "```"
   ]
  },
  {
   "cell_type": "code",
   "execution_count": 62,
   "metadata": {},
   "outputs": [],
   "source": [
    "client = gitlab.Gitlab(private_token=token)"
   ]
  },
  {
   "cell_type": "markdown",
   "metadata": {
    "tags": []
   },
   "source": [
    "```{=latex}\n",
    "\\end{frame}\n",
    "```\n",
    "\n",
    "You want to avoid using your\n",
    "username/password.\n",
    "All of the popular platforms enable a\n",
    "web-based\n",
    "flow to\n",
    "collect a private access token\n",
    "(optionally with an expiration date).\n",
    "\n",
    "As before,\n",
    "avoid embedding the token directly into\n",
    "the notebook.\n",
    "\n"
   ]
  },
  {
   "cell_type": "markdown",
   "metadata": {},
   "source": [
    "### Analyzing one project"
   ]
  },
  {
   "cell_type": "markdown",
   "metadata": {
    "tags": []
   },
   "source": [
    "```{=latex}\n",
    "\\begin{frame}[fragile]\n",
    "\\frametitle{Analyzing README}\n",
    "```"
   ]
  },
  {
   "cell_type": "code",
   "execution_count": 64,
   "metadata": {},
   "outputs": [
    {
     "data": {
      "text/plain": [
       "882"
      ]
     },
     "execution_count": 64,
     "metadata": {},
     "output_type": "execute_result"
    }
   ],
   "source": [
    "project = client.projects.get(project_name)\n",
    "[readme] = [\n",
    "    obj\n",
    "    for obj in project.repository_tree(\n",
    "        as_list=False\n",
    "    )\n",
    "    if obj[\"name\"] == \"README.md\"\n",
    "]\n",
    "contents = project.repository_blob(readme[\"id\"])\n",
    "data = base64.b64decode(\n",
    "    contents[\"content\"].encode(\"ascii\")\n",
    ").decode(\"utf-8\")\n",
    "len(data.split())"
   ]
  },
  {
   "cell_type": "markdown",
   "metadata": {
    "tags": []
   },
   "source": [
    "```{=latex}\n",
    "\\end{frame}\n",
    "```\n",
    "\n",
    "In the interest of having an example that fits on a single slide,\n",
    "this is a simple\n",
    "`README`\n",
    "word count.\n",
    "As an example of a real use case,\n",
    "imagine that you want to estimate reading times for various\n",
    "`README`s.\n"
   ]
  },
  {
   "cell_type": "markdown",
   "metadata": {},
   "source": [
    "### Looping"
   ]
  },
  {
   "cell_type": "markdown",
   "metadata": {
    "tags": []
   },
   "source": [
    "```{=latex}\n",
    "\\begin{frame}[fragile]\n",
    "\\frametitle{Analyzing projects in a loop}\n",
    "```"
   ]
  },
  {
   "cell_type": "code",
   "execution_count": 65,
   "metadata": {},
   "outputs": [
    {
     "name": "stdout",
     "output_type": "stream",
     "text": [
      "882\n",
      "563\n"
     ]
    }
   ],
   "source": [
    "for project_name in projects:\n",
    "    project = client.projects.get(project_name)\n",
    "    [readme] = [\n",
    "        obj\n",
    "        for obj in project.repository_tree(\n",
    "            as_list=False\n",
    "        )\n",
    "        if obj[\"name\"] == \"README.md\"\n",
    "    ]\n",
    "    contents = project.repository_blob(readme[\"id\"])\n",
    "    data = base64.b64decode(\n",
    "        contents[\"content\"].encode(\"ascii\")\n",
    "    ).decode(\"utf-8\")\n",
    "    print(len(data.split()))"
   ]
  },
  {
   "cell_type": "markdown",
   "metadata": {
    "tags": []
   },
   "source": [
    "```{=latex}\n",
    "\\end{frame}\n",
    "```\n",
    "\n",
    "After checking that the code flow,\n",
    "which can be non-trivial,\n",
    "works on one project,\n",
    "looping is the next.\n",
    "This requires indenting the code from the previous slide,\n",
    "and adding a for loop on top.\n",
    "\n",
    "This can be added to a  scanner that automatically warns\n",
    "if the README is either too short\n",
    "(probably needs more)\n",
    "or too long\n",
    "(and needs to be broken up)."
   ]
  },
  {
   "cell_type": "markdown",
   "metadata": {},
   "source": [
    "## Summary"
   ]
  },
  {
   "cell_type": "markdown",
   "metadata": {
    "tags": []
   },
   "source": [
    "```{=latex}\n",
    "\\begin{frame}[fragile]\n",
    "\\frametitle{Use Jupyter for DevOps}\n",
    "\n",
    "\\pause\n",
    "\\begin{itemize}\n",
    "\\item Prototype \\pause\n",
    "\\item Iterate \\pause\n",
    "\\item Automate \\pause\n",
    "\\item Document \\pause\n",
    "\\item Share \\pause\n",
    "\\end{itemize}\n",
    "\n",
    "\n",
    "\\end{frame}\n",
    "```\n",
    "\n",
    "Try it yourself!\n",
    "Install Jupyter and use it for day to day tasks.\n",
    "Prototype automation or remediation tasks,\n",
    "iterate on them,\n",
    "and then run them on all relevant systems,\n",
    "without switching windows!\n",
    "\n",
    "Jupyter can also be used to document what you did:\n",
    "useful as an attachment to a break-fix ticket.\n",
    "Expore notebooks to HTML,\n",
    "after adding some markdown cells,\n",
    "and you have something you can send to colleagues\n",
    "to help with knowledge sharing --\n",
    "even if these colleagues do not use Jupyter\n",
    "(yet!)."
   ]
  },
  {
   "cell_type": "markdown",
   "metadata": {},
   "source": [
    "```{=latex}\n",
    "\\end{document}\n",
    "```"
   ]
  }
 ],
 "metadata": {
  "kernelspec": {
   "display_name": "jupyter-devops",
   "language": "python",
   "name": "jupyter-devops-venv"
  },
  "language_info": {
   "codemirror_mode": {
    "name": "ipython",
    "version": 3
   },
   "file_extension": ".py",
   "mimetype": "text/x-python",
   "name": "python",
   "nbconvert_exporter": "python",
   "pygments_lexer": "ipython3",
   "version": "3.10.5"
  },
  "toc-autonumbering": false
 },
 "nbformat": 4,
 "nbformat_minor": 4
}
